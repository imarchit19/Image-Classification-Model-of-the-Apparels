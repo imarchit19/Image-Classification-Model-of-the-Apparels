{
 "cells": [
  {
   "cell_type": "code",
   "execution_count": 1,
   "metadata": {},
   "outputs": [],
   "source": [
    "import numpy as np\n",
    "import matplotlib.pyplot as plt"
   ]
  },
  {
   "cell_type": "code",
   "execution_count": 2,
   "metadata": {},
   "outputs": [],
   "source": [
    "def softmax(z):\n",
    "    z -= np.max(z)\n",
    "    sm = (np.exp(z).T / np.sum(np.exp(z), axis=1))\n",
    "    return sm"
   ]
  },
  {
   "cell_type": "code",
   "execution_count": 3,
   "metadata": {},
   "outputs": [],
   "source": [
    "def initialize(dim1, dim2):\n",
    "    w = np.zeros(shape=(dim1, dim2))\n",
    "    b = np.zeros(shape=(10, 1))\n",
    "    return w, b"
   ]
  },
  {
   "cell_type": "code",
   "execution_count": 4,
   "metadata": {},
   "outputs": [],
   "source": [
    "def propagate(w, b, X, Y):\n",
    "    m = X.shape[1] \n",
    "    A = softmax((np.dot(w.T, X) + b).T)\n",
    "    cost = (-1 / m) * np.sum(Y * np.log(A))\n",
    "    dw = (1 / m) * np.dot(X, (A - Y).T)\n",
    "    db = (1 / m) * np.sum(A - Y)\n",
    "\n",
    "    cost = np.squeeze(cost)\n",
    "    grads = {\"dw\": dw,\n",
    "             \"db\": db}\n",
    "    return grads, cost"
   ]
  },
  {
   "cell_type": "code",
   "execution_count": 5,
   "metadata": {},
   "outputs": [],
   "source": [
    "def optimize(w, b, X, Y, num_iters, alpha, print_cost=False):\n",
    "    costs = []\n",
    "    for i in range(num_iters):\n",
    "        grads, cost = propagate(w, b, X, Y)\n",
    "        dw = grads[\"dw\"]\n",
    "        db = grads[\"db\"]\n",
    "        w = w - alpha * dw\n",
    "        b = b - alpha * db\n",
    "        alpha = alpha * 0.99\n",
    "\n",
    "        if i % 50 == 0:\n",
    "            costs.append(cost)\n",
    "        if print_cost and i % 50 == 0:\n",
    "            print(\"Cost after iteration %i: %f\" % (i, cost))\n",
    "\n",
    "    params = {\"w\": w,\n",
    "              \"b\": b}\n",
    "\n",
    "    grads = {\"dw\": dw,\n",
    "             \"db\": db}\n",
    "\n",
    "    return params, grads, costs"
   ]
  },
  {
   "cell_type": "code",
   "execution_count": 6,
   "metadata": {},
   "outputs": [],
   "source": [
    "def predict(w, b, X):\n",
    "    y_pred = np.argmax(softmax((np.dot(w.T, X) + b).T), axis=0)\n",
    "    return y_pred"
   ]
  },
  {
   "cell_type": "code",
   "execution_count": 7,
   "metadata": {},
   "outputs": [],
   "source": [
    "def model_LR(label_dict, X_train, Y_train, Y, test_x, test_y, num_iters, alpha, print_cost):\n",
    "    w, b = initialize(X_train.shape[0], Y_train.shape[0])\n",
    "    parameters, grads, costs = optimize(w, b, X_train, Y_train, num_iters, alpha, print_cost)\n",
    "\n",
    "    w = parameters[\"w\"]\n",
    "    b = parameters[\"b\"]\n",
    "\n",
    "    y_prediction_train = predict(w, b, X_train)\n",
    "    y_prediction_test = predict(w, b, test_x)\n",
    "    print(\"Train accuracy: {} %\", sum(y_prediction_train == Y) / (float(len(Y))) * 100)\n",
    "    print(\"Test accuracy: {} %\", sum(y_prediction_test == test_y) / (float(len(test_y))) * 100)\n",
    "\n",
    "    d = {\"costs\": costs,\n",
    "         \"Y_prediction_test\": y_prediction_test,\n",
    "         \"Y_prediction_train\": y_prediction_train,\n",
    "         \"w\": w,\n",
    "         \"b\": b,\n",
    "         \"learning_rate\": alpha,\n",
    "         \"num_iterations\": num_iters}\n",
    "    costs = np.squeeze(d['costs'])\n",
    "    plt.plot(costs)\n",
    "    plt.ylabel('cost')\n",
    "    plt.xlabel('iterations (per hundreds)')\n",
    "    plt.title(\"Learning rate =\" + str(d[\"learning_rate\"]))\n",
    "    plt.plot()\n",
    "    plt.show()\n",
    "    plt.close()\n",
    "\n",
    "    pri(X_train, y_prediction_train, label_dict)\n",
    "    return d"
   ]
  },
  {
   "cell_type": "code",
   "execution_count": 8,
   "metadata": {},
   "outputs": [],
   "source": [
    "def pri(X, Y, label):\n",
    "    example = X[:, 2]\n",
    "    print(\"Prediction for the example is \", label[Y[2]])"
   ]
  },
  {
   "cell_type": "code",
   "execution_count": 9,
   "metadata": {},
   "outputs": [],
   "source": [
    "import numpy as np\n",
    "import pandas as pd"
   ]
  },
  {
   "cell_type": "code",
   "execution_count": null,
   "metadata": {},
   "outputs": [
    {
     "name": "stdout",
     "output_type": "stream",
     "text": [
      "Cost after iteration 0: 2.302585\n",
      "Cost after iteration 50: 2.356403\n",
      "Cost after iteration 100: 2.256834\n",
      "Cost after iteration 150: 2.250197\n",
      "Cost after iteration 200: 2.246450\n",
      "Cost after iteration 250: 2.244268\n",
      "Cost after iteration 300: 2.242977\n",
      "Cost after iteration 350: 2.242207\n",
      "Cost after iteration 400: 2.241744\n",
      "Cost after iteration 450: 2.241465\n",
      "Cost after iteration 500: 2.241297\n",
      "Cost after iteration 550: 2.241195\n",
      "Cost after iteration 600: 2.241134\n",
      "Cost after iteration 650: 2.241097\n",
      "Cost after iteration 700: 2.241074\n",
      "Cost after iteration 750: 2.241061\n",
      "Cost after iteration 800: 2.241053\n",
      "Cost after iteration 850: 2.241048\n",
      "Cost after iteration 900: 2.241045\n",
      "Cost after iteration 950: 2.241043\n",
      "Cost after iteration 1000: 2.241042\n",
      "Cost after iteration 1050: 2.241041\n",
      "Cost after iteration 1100: 2.241041\n",
      "Cost after iteration 1150: 2.241040\n",
      "Cost after iteration 1200: 2.241040\n",
      "Cost after iteration 1250: 2.241040\n",
      "Cost after iteration 1300: 2.241040\n",
      "Cost after iteration 1350: 2.241040\n"
     ]
    }
   ],
   "source": [
    "label_dict = {\n",
    "        0: 'T - shirt / top',\n",
    "        1: 'Trouser',\n",
    "        2: 'Pullover',\n",
    "        3: 'Dress',\n",
    "        4: 'Coat',\n",
    "        5: 'Sandal',\n",
    "        6: 'Shirt',\n",
    "        7: 'Sneaker',\n",
    "        8: 'Bag',\n",
    "        9: 'Ankleboot'\n",
    "}\n",
    "\n",
    "data = pd.read_csv(\"fashion-mnist_train.csv\")\n",
    "train_x = np.array(data)\n",
    "test_x = train_x[7000:10000, :]\n",
    "train_x = train_x[0:7000, :]\n",
    "data = pd.read_csv(\"fashion-mnist_test.csv\")\n",
    "train_y = np.array(data)\n",
    "test_y = train_y[7000:10000, :]\n",
    "train_y = train_y[0:7000, :]\n",
    "train_y = train_y.T\n",
    "train_y = train_y[0]\n",
    "Y = train_y\n",
    "train_y = (np.arange(np.max(Y) + 1) == Y[:, None]).astype(int)\n",
    "d = model_LR(label_dict, train_x.T, train_y.T, Y, test_x.T, test_y.T[0], num_iters=1500,\n",
    "                                alpha=0.000005, print_cost=True)"
   ]
  },
  {
   "cell_type": "code",
   "execution_count": null,
   "metadata": {},
   "outputs": [],
   "source": []
  }
 ],
 "metadata": {
  "kernelspec": {
   "display_name": "Python 3",
   "language": "python",
   "name": "python3"
  },
  "language_info": {
   "codemirror_mode": {
    "name": "ipython",
    "version": 3
   },
   "file_extension": ".py",
   "mimetype": "text/x-python",
   "name": "python",
   "nbconvert_exporter": "python",
   "pygments_lexer": "ipython3",
   "version": "3.7.3"
  }
 },
 "nbformat": 4,
 "nbformat_minor": 2
}
